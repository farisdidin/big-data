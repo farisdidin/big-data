{
 "cells": [
  {
   "cell_type": "markdown",
   "metadata": {},
   "source": [
    "# Tugas Pengenalan Apache Spark \n",
    "\n",
    "##### Muhammad Faris Didin Andiyar\n",
    "##### 5115100118\n",
    "\n",
    "### Requirement :\n",
    "\n"
   ]
  },
  {
   "cell_type": "markdown",
   "metadata": {},
   "source": [
    "## Initialization of Spark"
   ]
  },
  {
   "cell_type": "code",
   "execution_count": 1,
   "metadata": {},
   "outputs": [
    {
     "name": "stdout",
     "output_type": "stream",
     "text": [
      "<pyspark.sql.session.SparkSession object at 0x7f2a342f1e50>\n"
     ]
    }
   ],
   "source": [
    "import findspark\n",
    "findspark.init(\"/usr/local/spark\")\n",
    "from pyspark import SparkContext, SparkConf\n",
    "from pyspark.sql import SparkSession\n",
    "spark = SparkSession.builder.appName(\"Python Spark SQL basic example\").getOrCreate()\n"
   ]
  },
  {
   "cell_type": "markdown",
   "metadata": {},
   "source": [
    "## Load Dataset"
   ]
  },
  {
   "cell_type": "code",
   "execution_count": 2,
   "metadata": {},
   "outputs": [],
   "source": [
    "df2 = spark.read.csv(\"la/listing-of-active-businesses.csv\", header=True, inferSchema=True)"
   ]
  },
  {
   "cell_type": "code",
   "execution_count": 3,
   "metadata": {
    "scrolled": true
   },
   "outputs": [
    {
     "name": "stdout",
     "output_type": "stream",
     "text": [
      "+------------------+--------------------+--------------------+--------------------+-----------------+----------+--------------------+--------------------+-----------------+----------------+------+-------------------------+----------------+-------------------+-----------------+--------+\n",
      "|LOCATION ACCOUNT #|       BUSINESS NAME|            DBA NAME|      STREET ADDRESS|             CITY|  ZIP CODE|LOCATION DESCRIPTION|     MAILING ADDRESS|     MAILING CITY|MAILING ZIP CODE| NAICS|PRIMARY NAICS DESCRIPTION|COUNCIL DISTRICT|LOCATION START DATE|LOCATION END DATE|LOCATION|\n",
      "+------------------+--------------------+--------------------+--------------------+-----------------+----------+--------------------+--------------------+-----------------+----------------+------+-------------------------+----------------+-------------------+-----------------+--------+\n",
      "| 0000000115-0001-3|    VINCENZO LABELLA|                null|521 SWARTHMORE AV...|PACIFIC PALISADES|90272-4350|521 SWARTHMORE 90...|521 SWARTHMORE AV...|PACIFIC PALISADES|      90272-4350|561500|     Travel arrangemen...|              11|1990-01-01 00:00:00|             null|    null|\n",
      "| 0000000150-0001-5|A A OFICINA CENTR...|                null|2015 W TEMPLE STREET|      LOS ANGELES|90026-4913|2015 TEMPLE 90026...|2607 VAN BUREN PLACE|      LOS ANGELES|      90007-2129|611000|     Educational servi...|              13|1991-01-01 00:00:00|             null|    null|\n",
      "| 0000000156-0001-2|SPRINGBOARD NON-P...|MONEY MANAGEMENT ...|1605 W OLYMPIC BL...|      LOS ANGELES|90015-3828|1605 OLYMPIC 9001...|                null|             null|            null|523900|     Other financial i...|               1|1999-02-01 00:00:00|             null|    null|\n",
      "| 0000000247-0001-1|A A OFICINA CENTR...|                null|    3806 W PICO BLVD|      LOS ANGELES|90019-4304|3806 PICO 90019-4304|2607 VAN BUREN PLACE|      LOS ANGELES|      90007-2129|611000|     Educational servi...|              10|1991-01-01 00:00:00|             null|    null|\n",
      "| 0000000267-0001-9|A A OFICINA CENTR...|                null|    3115 VENICE BLVD|      LOS ANGELES|90019-6238|3115 VENICE 90019...|2607 VAN BUREN PLACE|      LOS ANGELES|      90007-2129|611000|     Educational servi...|              10|1991-01-01 00:00:00|             null|    null|\n",
      "| 0000000282-0001-3|A A OFICINA CENTR...|                null| 2601 W PICO BLVD #2|      LOS ANGELES|90006-3901|2601 PICO 90006-3901|2607 VAN BUREN PLACE|      LOS ANGELES|      90007-2129|611000|     Educational servi...|               1|1991-01-01 00:00:00|             null|    null|\n",
      "| 0000000327-0001-2|A A OFICINA CENTR...|                null|   4151 BEVERLY BLVD|      LOS ANGELES|90004-4461|4151 BEVERLY 9000...|2607 VAN BUREN PLACE|      LOS ANGELES|      90007-2129|611000|     Educational servi...|              13|1991-01-01 00:00:00|             null|    null|\n",
      "| 0000000328-0001-7|A A OFICINA CENTR...|                null|3049 W 8TH STREET...|      LOS ANGELES|90005-1873| 3049 8TH 90005-1873|2607 VAN BUREN PLACE|      LOS ANGELES|      90007-2129|611000|     Educational servi...|              10|1991-01-01 00:00:00|             null|    null|\n",
      "| 0000000350-0001-1|A A OFICINA CENTR...|                null|    1150 VENICE BLVD|      LOS ANGELES|90015-3214|1150 VENICE 90015...|2607 VAN BUREN PLACE|      LOS ANGELES|      90007-2129|611000|     Educational servi...|               1|1991-01-01 00:00:00|             null|    null|\n",
      "| 0000000547-0001-6|NEW CITY LIFE FOU...|                null|1201 W MANCHESTER...|      LOS ANGELES|90044-2237|1201 MANCHESTER 9...|   3533 W 58TH PLACE|      LOS ANGELES|      90043-3003|561500|     Travel arrangemen...|               8|2000-03-01 00:00:00|             null|    null|\n",
      "| 0000000590-0001-2|LOS ANGELES URBAN...|                null|10611 S HOOVER ST...|      LOS ANGELES|90044-4443|10611 HOOVER 9004...|7226 S FIGUEROA S...|      LOS ANGELES|      90003-1721|624410|     Child day care se...|               8|1995-01-20 00:00:00|             null|    null|\n",
      "| 0000000699-0001-1|THE KABBALAH CENT...|                null|1220 S SHENANDOAH...|      LOS ANGELES|90035-2238|1220 SHENANDOAH 9...|1062 S ROBERTSON ...|      LOS ANGELES|      90035-1505|531100|     Lessors of real e...|               5|2000-02-01 00:00:00|             null|    null|\n",
      "| 0000000726-0001-1|       JOYCE WILLING|                null| 10510 ODESSA AVENUE|    GRANADA HILLS|91344-6721|10510 ODESSA 9134...|                null|             null|            null|453990|     All other miscell...|              12|1999-01-01 00:00:00|             null|    null|\n",
      "| 0000001168-0001-2|THE SKID ROW HOUS...|                null|    114 E 5TH STREET|      LOS ANGELES|90013-1416|  114 5TH 90013-1416|   1317 E 7TH STREET|      LOS ANGELES|      90021-1101|561300|      Employment services|               9|1996-10-01 00:00:00|             null|    null|\n",
      "| 0000001192-0001-6|THE PUBLIC HEALTH...|PUBLIC HEALTH FOU...|1836 W IMPERIAL H...|      LOS ANGELES|90047-5020|1836 IMPERIAL 900...|12781 SCHABARUM A...|        IRWINDALE|      91706-6807|621510|     Medical & diagnos...|               0|2000-07-17 00:00:00|             null|    null|\n",
      "| 0000001271-0001-2|ST ANTHONY MEDICA...|                null|837 W IMPERIAL HI...|      LOS ANGELES|90044-4110|837 IMPERIAL 9004...|                null|             null|            null|621400|     Outpatient  care ...|              15|2000-04-01 00:00:00|             null|    null|\n",
      "| 0000001333-0001-5|YIDDISHKAYT LOS A...|                null|3780 WILSHIRE BLV...|      LOS ANGELES|90010-2840|3780 WILSHIRE 900...|                null|             null|            null|611000|     Educational servi...|              10|1998-07-21 00:00:00|             null|    null|\n",
      "| 0000001345-0001-8|   S RICHARD FRIESEN|      BIRDBRAIN ARTS| 16600 HAMLIN STREET|      LAKE BALBOA|91406-5615|16600 HAMLIN 9140...|                null|             null|            null|453990|     All other miscell...|               6|1999-01-01 00:00:00|             null|    null|\n",
      "| 0000001360-0001-2|SAN FERNANDO VALL...|        FAMILY LINKS|11565 LAUREL CANY...|     SAN FERNANDO|91340-4168|11565 LAUREL CANY...|6931 VAN NUYS BLV...|         VAN NUYS|      91405-3937|621400|     Outpatient  care ...|               0|2000-07-01 00:00:00|             null|    null|\n",
      "| 0000001364-0001-1|WET PAINT PRODUCT...|           WET PAINT|5230 KESTER AVENU...|     SHERMAN OAKS|91411-4019|5230 KESTER 91411...|                null|             null|            null|711300|     Promoters of perf...|               2|2000-01-01 00:00:00|             null|    null|\n",
      "+------------------+--------------------+--------------------+--------------------+-----------------+----------+--------------------+--------------------+-----------------+----------------+------+-------------------------+----------------+-------------------+-----------------+--------+\n",
      "only showing top 20 rows\n",
      "\n"
     ]
    }
   ],
   "source": [
    "df2.show()"
   ]
  },
  {
   "cell_type": "code",
   "execution_count": 4,
   "metadata": {},
   "outputs": [
    {
     "data": {
      "text/plain": [
       "StructType(List(StructField(LOCATION ACCOUNT #,StringType,true),StructField(BUSINESS NAME,StringType,true),StructField(DBA NAME,StringType,true),StructField(STREET ADDRESS,StringType,true),StructField(CITY,StringType,true),StructField(ZIP CODE,StringType,true),StructField(LOCATION DESCRIPTION,StringType,true),StructField(MAILING ADDRESS,StringType,true),StructField(MAILING CITY,StringType,true),StructField(MAILING ZIP CODE,StringType,true),StructField(NAICS,IntegerType,true),StructField(PRIMARY NAICS DESCRIPTION,StringType,true),StructField(COUNCIL DISTRICT,IntegerType,true),StructField(LOCATION START DATE,TimestampType,true),StructField(LOCATION END DATE,StringType,true),StructField(LOCATION,StringType,true)))"
      ]
     },
     "execution_count": 4,
     "metadata": {},
     "output_type": "execute_result"
    }
   ],
   "source": [
    "df2.schema"
   ]
  },
  {
   "cell_type": "code",
   "execution_count": 5,
   "metadata": {},
   "outputs": [],
   "source": [
    "df2.createOrReplaceTempView(\"business\")"
   ]
  },
  {
   "cell_type": "markdown",
   "metadata": {},
   "source": [
    "## Data Mining Process"
   ]
  },
  {
   "cell_type": "markdown",
   "metadata": {},
   "source": [
    "### Jumlah Perusahaan di setiap kota "
   ]
  },
  {
   "cell_type": "code",
   "execution_count": 6,
   "metadata": {},
   "outputs": [],
   "source": [
    "result=spark.sql(\"SELECT COUNT(`BUSINESS NAME`) as jumlah , CITY from business GROUP BY CITY order by jumlah desc\") "
   ]
  },
  {
   "cell_type": "code",
   "execution_count": 8,
   "metadata": {},
   "outputs": [
    {
     "name": "stdout",
     "output_type": "stream",
     "text": [
      "+------+-----------------+\n",
      "|jumlah|             CITY|\n",
      "+------+-----------------+\n",
      "|254197|      LOS ANGELES|\n",
      "| 18341|         VAN NUYS|\n",
      "| 14325|     SHERMAN OAKS|\n",
      "| 14294|  NORTH HOLLYWOOD|\n",
      "| 11703|   WOODLAND HILLS|\n",
      "| 10501|           ENCINO|\n",
      "|  8644|       NORTHRIDGE|\n",
      "|  7217|      STUDIO CITY|\n",
      "|  6415|      CANOGA PARK|\n",
      "|  6054|          TARZANA|\n",
      "|  5985|           RESEDA|\n",
      "|  5479|       CHATSWORTH|\n",
      "|  5202|           VENICE|\n",
      "|  5069|        SAN PEDRO|\n",
      "|  4835|    GRANADA HILLS|\n",
      "|  4725|    PANORAMA CITY|\n",
      "|  4711|       SUN VALLEY|\n",
      "|  4527|           SYLMAR|\n",
      "|  3774|      N HOLLYWOOD|\n",
      "|  3686|          PACOIMA|\n",
      "|  3593|      NORTH HILLS|\n",
      "|  3556|   VALLEY VILLAGE|\n",
      "|  3447|       WEST HILLS|\n",
      "|  3068|         GLENDALE|\n",
      "|  2984|         WINNETKA|\n",
      "|  2917|PACIFIC PALISADES|\n",
      "|  2902|    BEVERLY HILLS|\n",
      "|  2838|       WILMINGTON|\n",
      "|  2702|     SANTA MONICA|\n",
      "|  2652|          BURBANK|\n",
      "|  2557|   MARINA DEL REY|\n",
      "|  2530|         TORRANCE|\n",
      "|  2336|      CULVER CITY|\n",
      "|  2245|           ARLETA|\n",
      "|  2186|   WEST HOLLYWOOD|\n",
      "|  2057|          TUJUNGA|\n",
      "|  1969|          GARDENA|\n",
      "|  1562|    MISSION HILLS|\n",
      "|  1556|       LONG BEACH|\n",
      "|  1509|          SUNLAND|\n",
      "|  1440|         PASADENA|\n",
      "|  1333|        INGLEWOOD|\n",
      "|  1320|    PLAYA DEL REY|\n",
      "|  1311|      HARBOR CITY|\n",
      "|  1196|      TOLUCA LAKE|\n",
      "|  1187|     PORTER RANCH|\n",
      "|  1101|     SAN FERNANDO|\n",
      "|  1061|      SIMI VALLEY|\n",
      "|  1017|        CALABASAS|\n",
      "|   904|          ANAHEIM|\n",
      "+------+-----------------+\n",
      "only showing top 50 rows\n",
      "\n"
     ]
    }
   ],
   "source": [
    "result.show(50)"
   ]
  },
  {
   "cell_type": "markdown",
   "metadata": {},
   "source": [
    "### Jumlah Jenis Perusahaan Terbanyak"
   ]
  },
  {
   "cell_type": "code",
   "execution_count": 24,
   "metadata": {},
   "outputs": [],
   "source": [
    "result2=spark.sql(\"SELECT count(`LOCATION ACCOUNT #`) as number_company, `PRIMARY NAICS DESCRIPTION`\\\n",
    "FROM business group by `PRIMARY NAICS DESCRIPTION` order by number_company desc\")"
   ]
  },
  {
   "cell_type": "code",
   "execution_count": 25,
   "metadata": {},
   "outputs": [
    {
     "name": "stdout",
     "output_type": "stream",
     "text": [
      "+--------------+-------------------------+\n",
      "|number_company|PRIMARY NAICS DESCRIPTION|\n",
      "+--------------+-------------------------+\n",
      "|         48403|                     null|\n",
      "|         43650|     Lessors of real e...|\n",
      "|         28561|     All other persona...|\n",
      "|         24156|     Independent artis...|\n",
      "|         13838|     Single Family Hou...|\n",
      "|         13225|     Motion picture & ...|\n",
      "|         13194|     Management, scien...|\n",
      "|         13018|     All other profess...|\n",
      "|         11946|      Janitorial services|\n",
      "|          8074|           Legal services|\n",
      "|          7167|     Full-service rest...|\n",
      "|          6903|     Other miscellaneo...|\n",
      "|          6784|     Specialized desig...|\n",
      "|          6240|     Offices of physic...|\n",
      "|          6168|     All other miscell...|\n",
      "|          5833|             Apparel mfg.|\n",
      "|          5684|     Travel arrangemen...|\n",
      "|          5658|     Educational servi...|\n",
      "|          5346|     All other special...|\n",
      "|          5337|     General merchandi...|\n",
      "|          5092|     Real estate prope...|\n",
      "|          4947|      Employment services|\n",
      "|          4733|     Home health care ...|\n",
      "|          4585|     Other consumer go...|\n",
      "|          4574|     Electrical Contra...|\n",
      "|          4567|     Plumbing, Heating...|\n",
      "|          4174|     Other direct sell...|\n",
      "|          4023|     Landscaping services|\n",
      "|          3627|     Advertising & rel...|\n",
      "|          3572|     Photographic serv...|\n",
      "|          3551|     Computer systems ...|\n",
      "|          3550|     Apparel, piece go...|\n",
      "|          3543|     Other accounting ...|\n",
      "|          3220|             Barber shops|\n",
      "|          3172|     Special food serv...|\n",
      "|          3169|     Offices of all ot...|\n",
      "|          3040|     Other financial i...|\n",
      "|          2992|     Child day care se...|\n",
      "|          2835|     Other services to...|\n",
      "|          2831|     Other miscellaneo...|\n",
      "+--------------+-------------------------+\n",
      "only showing top 40 rows\n",
      "\n"
     ]
    }
   ],
   "source": [
    "result2.show(40)"
   ]
  },
  {
   "cell_type": "markdown",
   "metadata": {},
   "source": [
    "### Jumlah Perusahaan Berdiri pada Tahun tertentu"
   ]
  },
  {
   "cell_type": "code",
   "execution_count": 18,
   "metadata": {},
   "outputs": [],
   "source": [
    "result4=spark.sql(\"select count(`LOCATION ACCOUNT #`) as number_company, year(`LOCATION START DATE`) as year_date \\\n",
    "from business group by year_date order by number_company desc\")"
   ]
  },
  {
   "cell_type": "code",
   "execution_count": 19,
   "metadata": {},
   "outputs": [
    {
     "name": "stdout",
     "output_type": "stream",
     "text": [
      "+--------------+---------+\n",
      "|number_company|year_date|\n",
      "+--------------+---------+\n",
      "|         43031|     2015|\n",
      "|         37701|     2016|\n",
      "|         37458|     2014|\n",
      "|         36677|     2017|\n",
      "|         31617|     2013|\n",
      "|         31051|     2018|\n",
      "|         25260|     2012|\n",
      "|         21490|     2011|\n",
      "|         19150|     2010|\n",
      "|         16709|     2007|\n",
      "|         16314|     2009|\n",
      "|         15812|     2006|\n",
      "|         15428|     2005|\n",
      "|         15226|     2004|\n",
      "|         14972|     2008|\n",
      "|         14024|     2003|\n",
      "|         11580|     2002|\n",
      "|         11165|     2001|\n",
      "|         10247|     2000|\n",
      "|          9106|     1999|\n",
      "+--------------+---------+\n",
      "only showing top 20 rows\n",
      "\n"
     ]
    }
   ],
   "source": [
    "result4.show()"
   ]
  },
  {
   "cell_type": "code",
   "execution_count": null,
   "metadata": {},
   "outputs": [],
   "source": []
  }
 ],
 "metadata": {
  "kernelspec": {
   "display_name": "Python 2",
   "language": "python",
   "name": "python2"
  },
  "language_info": {
   "codemirror_mode": {
    "name": "ipython",
    "version": 2
   },
   "file_extension": ".py",
   "mimetype": "text/x-python",
   "name": "python",
   "nbconvert_exporter": "python",
   "pygments_lexer": "ipython2",
   "version": "2.7.15rc1"
  }
 },
 "nbformat": 4,
 "nbformat_minor": 2
}
