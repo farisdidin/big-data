{
 "cells": [
  {
   "cell_type": "code",
   "execution_count": 1,
   "metadata": {},
   "outputs": [],
   "source": [
    "# Import Spark library for python\n",
    "import findspark\n",
    "findspark.init(\"/usr/local/spark\")\n",
    "from pyspark import SparkContext, SparkConf\n",
    "from pyspark.sql import SparkSession\n",
    "spark = SparkSession.builder.appName(\"Python Spark SQL basic example\").getOrCreate()"
   ]
  },
  {
   "cell_type": "code",
   "execution_count": 2,
   "metadata": {},
   "outputs": [],
   "source": [
    "# Load dataset\n",
    "df2 = spark.read.csv(\"OnlineRetail.csv\", header=True, inferSchema=True)"
   ]
  },
  {
   "cell_type": "code",
   "execution_count": 3,
   "metadata": {},
   "outputs": [],
   "source": [
    "df2.createOrReplaceTempView(\"retail\")\n"
   ]
  },
  {
   "cell_type": "code",
   "execution_count": 4,
   "metadata": {},
   "outputs": [
    {
     "name": "stdout",
     "output_type": "stream",
     "text": [
      "root\n",
      " |-- InvoiceNo: string (nullable = true)\n",
      " |-- StockCode: string (nullable = true)\n",
      " |-- Description: string (nullable = true)\n",
      " |-- Quantity: integer (nullable = true)\n",
      " |-- InvoiceDate: string (nullable = true)\n",
      " |-- UnitPrice: double (nullable = true)\n",
      " |-- CustomerID: integer (nullable = true)\n",
      " |-- Country: string (nullable = true)\n",
      "\n"
     ]
    }
   ],
   "source": [
    "df2.printSchema()"
   ]
  },
  {
   "cell_type": "code",
   "execution_count": 5,
   "metadata": {},
   "outputs": [],
   "source": [
    "result=spark.sql(\"SELECT * FROM retail\")"
   ]
  },
  {
   "cell_type": "code",
   "execution_count": 24,
   "metadata": {},
   "outputs": [],
   "source": [
    "stock = spark.sql(\"SELECT DISTINCT StockCode, Description from retail WHERE Description is not null order by StockCode\")"
   ]
  },
  {
   "cell_type": "code",
   "execution_count": 26,
   "metadata": {},
   "outputs": [
    {
     "name": "stdout",
     "output_type": "stream",
     "text": [
      "+---------+--------------------+\n",
      "|StockCode|         Description|\n",
      "+---------+--------------------+\n",
      "|    10002|INFLATABLE POLITI...|\n",
      "|    10080|               check|\n",
      "|    10080|GROOVY CACTUS INF...|\n",
      "|    10120|        DOGGY RUBBER|\n",
      "|   10123C|HEARTS WRAPPING T...|\n",
      "|   10124A|SPOTS ON RED BOOK...|\n",
      "|   10124G|ARMY CAMO BOOKCOV...|\n",
      "|    10125|MINI FUNKY DESIGN...|\n",
      "|    10133|             damaged|\n",
      "|    10133|COLOURING PENCILS...|\n",
      "|    10135|COLOURING PENCILS...|\n",
      "|    11001|ASSTD DESIGN RACI...|\n",
      "|    15030|    FAN BLACK FRAME |\n",
      "|    15034|PAPER POCKET TRAV...|\n",
      "|    15036|ASSORTED COLOURS ...|\n",
      "|    15039|      SANDALWOOD FAN|\n",
      "|   15044A| PINK PAPER PARASOL |\n",
      "|   15044B| BLUE PAPER PARASOL |\n",
      "|   15044C|PURPLE PAPER PARASOL|\n",
      "|   15044D|   RED PAPER PARASOL|\n",
      "|  15056BL|EDWARDIAN PARASOL...|\n",
      "|   15056N|EDWARDIAN PARASOL...|\n",
      "|   15056P|EDWARDIAN PARASOL...|\n",
      "|  15056bl|EDWARDIAN PARASOL...|\n",
      "|   15056n|EDWARDIAN PARASOL...|\n",
      "|   15056p|EDWARDIAN PARASOL...|\n",
      "|   15058A|           wet/rusty|\n",
      "|   15058A|BLUE POLKADOT GAR...|\n",
      "|   15058B|PINK POLKADOT GAR...|\n",
      "|   15058C|ICE CREAM DESIGN ...|\n",
      "|   15058C|           wet/rusty|\n",
      "|   15060B|FAIRY CAKE DESIGN...|\n",
      "|   15060b|FAIRY CAKE DESIGN...|\n",
      "|    16008|SMALL FOLDING SCI...|\n",
      "|    16008|               check|\n",
      "|    16010|FOLDING CAMPING S...|\n",
      "|    16011|     ANIMAL STICKERS|\n",
      "|    16012|FOOD/DRINK SPONGE...|\n",
      "|    16014|SMALL CHINESE STY...|\n",
      "|    16015|MEDIUM CHINESE ST...|\n",
      "|    16016|LARGE CHINESE STY...|\n",
      "|   16020C|CLEAR STATIONERY ...|\n",
      "|    16033|MINI HIGHLIGHTER ...|\n",
      "|    16043|POP ART PUSH DOWN...|\n",
      "|    16045|POPART WOODEN PEN...|\n",
      "|    16045|               check|\n",
      "|    16046|TEATIME PEN CASE ...|\n",
      "|    16048|TEATIME ROUND PEN...|\n",
      "|    16049|TEATIME GEL PENS ...|\n",
      "|    16052|TEATIME PUSH DOWN...|\n",
      "|    16054|POPART RECT PENCI...|\n",
      "|   16151A|FLOWERS HANDBAG b...|\n",
      "|   16156L|      WRAP, CAROUSEL|\n",
      "|   16156L|       WRAP CAROUSEL|\n",
      "|   16156S|WRAP PINK FAIRY C...|\n",
      "|   16161G|   WRAP BAD HAIR DAY|\n",
      "|   16161M|    WRAP  PINK FLOCK|\n",
      "|   16161P|  WRAP ENGLISH ROSE |\n",
      "|   16161U|WRAP SUKI AND FRI...|\n",
      "|   16162L|   THE KING GIFT BAG|\n",
      "|   16162M|THE KING GIFT BAG...|\n",
      "|   16162M|alan hodge cant m...|\n",
      "|   16168M|               found|\n",
      "|   16168M|FUNKY MONKEY GIFT...|\n",
      "|   16169E|               check|\n",
      "|   16169E|WRAP 50'S  CHRISTMAS|\n",
      "|   16169K|       WRAP FOLK ART|\n",
      "|   16169M|  WRAP DAISY CARPET |\n",
      "|   16169N|WRAP BLUE RUSSIAN...|\n",
      "|   16169P|WRAP GREEN RUSSIA...|\n",
      "|   16202A|PASTEL PINK PHOTO...|\n",
      "|   16202B|PASTEL BLUE PHOTO...|\n",
      "|   16202E|  BLACK PHOTO ALBUM |\n",
      "|   16206B|RED PURSE WITH PI...|\n",
      "|   16207A|               check|\n",
      "|   16207A|PINK STRAWBERRY H...|\n",
      "|   16207B|PINK HEART RED HA...|\n",
      "|    16216|LETTER SHAPE PENC...|\n",
      "|    16218|CARTOON  PENCIL S...|\n",
      "|    16219|HOUSE SHAPE PENCI...|\n",
      "|    16225|   RATTLE SNAKE EGGS|\n",
      "|    16235|RECYCLED PENCIL W...|\n",
      "|    16236|KITTY PENCIL ERASERS|\n",
      "|    16237|SLEEPING CAT ERASERS|\n",
      "|    16238|PARTY TIME PENCIL...|\n",
      "|   16244B|MAXWELL 2 TONE BL...|\n",
      "|   16248B|     BLUE HOLE PUNCH|\n",
      "|    16254|TRANSPARENT ACRYL...|\n",
      "|   16258A|SWIRLY CIRCULAR R...|\n",
      "|    16259|PIECE OF CAMO STA...|\n",
      "|    17001|HEAVENS SCENT FRA...|\n",
      "|    17003| BROCADE RING PURSE |\n",
      "|   17007B|S/3 POT POURI CUS...|\n",
      "|   17011F|ORIGAMI SANDLEWOO...|\n",
      "|   17012A|ORIGAMI VANILLA I...|\n",
      "|   17012B|               check|\n",
      "|   17012B|ORIGAMI JASMINE I...|\n",
      "|   17012C|ORIGAMI LAVENDER ...|\n",
      "|   17012C|               check|\n",
      "|   17012D|ORIGAMI ROSE INCE...|\n",
      "+---------+--------------------+\n",
      "only showing top 100 rows\n",
      "\n"
     ]
    }
   ],
   "source": [
    "stock.show(100)"
   ]
  },
  {
   "cell_type": "code",
   "execution_count": 47,
   "metadata": {},
   "outputs": [
    {
     "data": {
      "text/plain": [
       "4792"
      ]
     },
     "execution_count": 47,
     "metadata": {},
     "output_type": "execute_result"
    }
   ],
   "source": [
    "stock.count()"
   ]
  },
  {
   "cell_type": "code",
   "execution_count": 6,
   "metadata": {},
   "outputs": [
    {
     "name": "stdout",
     "output_type": "stream",
     "text": [
      "+---------+---------+--------------------+--------+--------------+---------+----------+--------------+\n",
      "|InvoiceNo|StockCode|         Description|Quantity|   InvoiceDate|UnitPrice|CustomerID|       Country|\n",
      "+---------+---------+--------------------+--------+--------------+---------+----------+--------------+\n",
      "|   536365|   85123A|WHITE HANGING HEA...|       6|12/1/2010 8:26|     2.55|     17850|United Kingdom|\n",
      "|   536365|    71053| WHITE METAL LANTERN|       6|12/1/2010 8:26|     3.39|     17850|United Kingdom|\n",
      "|   536365|   84406B|CREAM CUPID HEART...|       8|12/1/2010 8:26|     2.75|     17850|United Kingdom|\n",
      "|   536365|   84029G|KNITTED UNION FLA...|       6|12/1/2010 8:26|     3.39|     17850|United Kingdom|\n",
      "|   536365|   84029E|RED WOOLLY HOTTIE...|       6|12/1/2010 8:26|     3.39|     17850|United Kingdom|\n",
      "|   536365|    22752|SET 7 BABUSHKA NE...|       2|12/1/2010 8:26|     7.65|     17850|United Kingdom|\n",
      "|   536365|    21730|GLASS STAR FROSTE...|       6|12/1/2010 8:26|     4.25|     17850|United Kingdom|\n",
      "|   536366|    22633|HAND WARMER UNION...|       6|12/1/2010 8:28|     1.85|     17850|United Kingdom|\n",
      "|   536366|    22632|HAND WARMER RED P...|       6|12/1/2010 8:28|     1.85|     17850|United Kingdom|\n",
      "|   536367|    84879|ASSORTED COLOUR B...|      32|12/1/2010 8:34|     1.69|     13047|United Kingdom|\n",
      "|   536367|    22745|POPPY'S PLAYHOUSE...|       6|12/1/2010 8:34|      2.1|     13047|United Kingdom|\n",
      "|   536367|    22748|POPPY'S PLAYHOUSE...|       6|12/1/2010 8:34|      2.1|     13047|United Kingdom|\n",
      "|   536367|    22749|FELTCRAFT PRINCES...|       8|12/1/2010 8:34|     3.75|     13047|United Kingdom|\n",
      "|   536367|    22310|IVORY KNITTED MUG...|       6|12/1/2010 8:34|     1.65|     13047|United Kingdom|\n",
      "|   536367|    84969|BOX OF 6 ASSORTED...|       6|12/1/2010 8:34|     4.25|     13047|United Kingdom|\n",
      "|   536367|    22623|BOX OF VINTAGE JI...|       3|12/1/2010 8:34|     4.95|     13047|United Kingdom|\n",
      "|   536367|    22622|BOX OF VINTAGE AL...|       2|12/1/2010 8:34|     9.95|     13047|United Kingdom|\n",
      "|   536367|    21754|HOME BUILDING BLO...|       3|12/1/2010 8:34|     5.95|     13047|United Kingdom|\n",
      "|   536367|    21755|LOVE BUILDING BLO...|       3|12/1/2010 8:34|     5.95|     13047|United Kingdom|\n",
      "|   536367|    21777|RECIPE BOX WITH M...|       4|12/1/2010 8:34|     7.95|     13047|United Kingdom|\n",
      "+---------+---------+--------------------+--------+--------------+---------+----------+--------------+\n",
      "only showing top 20 rows\n",
      "\n"
     ]
    }
   ],
   "source": [
    "result.show()"
   ]
  },
  {
   "cell_type": "code",
   "execution_count": 73,
   "metadata": {},
   "outputs": [
    {
     "name": "stdout",
     "output_type": "stream",
     "text": [
      "+---------+--------------------+\n",
      "|InvoiceNo|                Desc|\n",
      "+---------+--------------------+\n",
      "|   536596|[WAKE UP COCKEREL...|\n",
      "|   536938|[RED 3 PIECE RETR...|\n",
      "|   537252|[SMALL POPCORN HO...|\n",
      "|   537691|[3 HOOK PHOTO SHE...|\n",
      "|   538041|                  []|\n",
      "|   538184|[MINI JIGSAW SPAC...|\n",
      "|   538517|[LARGE POPCORN HO...|\n",
      "|   538879|[PARTY CONE CHRIS...|\n",
      "|   539275|[RED  HARMONICA I...|\n",
      "|   539630|[CHICK GREY HOT W...|\n",
      "|   540499|[IVORY KITCHEN SC...|\n",
      "|   540540|[HOME SWEET HOME ...|\n",
      "|   540976|[60 CAKE CASES DO...|\n",
      "|   541432|[RETROSPOT HEART ...|\n",
      "|   541518|[60 CAKE CASES DO...|\n",
      "|   541783|[PHOTO FRAME 3 CL...|\n",
      "|   542026|[SMALL POPCORN HO...|\n",
      "|   542375|[CHILDRENS APRON ...|\n",
      "|  C540850|[SWEETHEART CERAM...|\n",
      "|   543641|[DOORSTOP FOOTBAL...|\n",
      "+---------+--------------------+\n",
      "only showing top 20 rows\n",
      "\n"
     ]
    }
   ],
   "source": [
    "# Process dataset to get id and items in here we use InvoiceNo and Desc\n",
    "from pyspark.sql import functions as F\n",
    "\n",
    "df=df2.groupBy(\"InvoiceNo\").agg(F.collect_set(F.col(\"Description\")).alias(\"Desc\"))\n",
    "df.show()"
   ]
  },
  {
   "cell_type": "code",
   "execution_count": 41,
   "metadata": {},
   "outputs": [
    {
     "name": "stdout",
     "output_type": "stream",
     "text": [
      "root\n",
      " |-- InvoiceNo: string (nullable = true)\n",
      " |-- Desc: array (nullable = true)\n",
      " |    |-- element: string (containsNull = true)\n",
      "\n"
     ]
    }
   ],
   "source": [
    "df.printSchema()"
   ]
  },
  {
   "cell_type": "code",
   "execution_count": 42,
   "metadata": {},
   "outputs": [
    {
     "data": {
      "text/plain": [
       "25900"
      ]
     },
     "execution_count": 42,
     "metadata": {},
     "output_type": "execute_result"
    }
   ],
   "source": [
    "df.count()"
   ]
  },
  {
   "cell_type": "code",
   "execution_count": 68,
   "metadata": {},
   "outputs": [
    {
     "name": "stdout",
     "output_type": "stream",
     "text": [
      "+-----+----+\n",
      "|items|freq|\n",
      "+-----+----+\n",
      "+-----+----+\n",
      "\n"
     ]
    },
    {
     "data": {
      "text/plain": [
       "0"
      ]
     },
     "execution_count": 68,
     "metadata": {},
     "output_type": "execute_result"
    }
   ],
   "source": [
    "# First Model\n",
    "from pyspark.ml.fpm import FPGrowth\n",
    "# measure item frequency\n",
    "fpGrowth = FPGrowth(itemsCol=\"Desc\", minSupport=0.1, minConfidence=0.3)\n",
    "model = fpGrowth.fit(df)\n",
    "model.freqItemsets.show(100)\n",
    "model.freqItemsets.count()"
   ]
  },
  {
   "cell_type": "code",
   "execution_count": 62,
   "metadata": {},
   "outputs": [
    {
     "name": "stdout",
     "output_type": "stream",
     "text": [
      "+--------+----+\n",
      "|   items|freq|\n",
      "+--------+----+\n",
      "|[85123A]|2246|\n",
      "| [22423]|2172|\n",
      "|[85099B]|2135|\n",
      "| [47566]|1706|\n",
      "| [20725]|1608|\n",
      "| [84879]|1468|\n",
      "| [22720]|1462|\n",
      "| [22197]|1442|\n",
      "| [21212]|1334|\n",
      "| [22383]|1306|\n",
      "| [20727]|1295|\n",
      "+--------+----+\n",
      "\n"
     ]
    },
    {
     "data": {
      "text/plain": [
       "11"
      ]
     },
     "execution_count": 62,
     "metadata": {},
     "output_type": "execute_result"
    }
   ],
   "source": [
    "# Second Model\n",
    "# measure item frequency\n",
    "fpGrowth2 = FPGrowth(itemsCol=\"Desc\", minSupport=0.05, minConfidence=0.3)\n",
    "model2 = fpGrowth2.fit(df)\n",
    "model2.freqItemsets.show(100)\n",
    "model2.freqItemsets.count()"
   ]
  },
  {
   "cell_type": "code",
   "execution_count": 69,
   "metadata": {},
   "outputs": [
    {
     "name": "stdout",
     "output_type": "stream",
     "text": [
      "+--------------------+----+\n",
      "|               items|freq|\n",
      "+--------------------+----+\n",
      "|[WHITE HANGING HE...|2302|\n",
      "|[REGENCY CAKESTAN...|2169|\n",
      "|[JUMBO BAG RED RE...|2135|\n",
      "|     [PARTY BUNTING]|1706|\n",
      "|[LUNCH BAG RED RE...|1607|\n",
      "|[LUNCH BAG RED RE...| 588|\n",
      "|[ASSORTED COLOUR ...|1467|\n",
      "|[SET OF 3 CAKE TI...|1458|\n",
      "|[PACK OF 72 RETRO...|1334|\n",
      "|[LUNCH BAG  BLACK...|1295|\n",
      "|[LUNCH BAG  BLACK...| 648|\n",
      "|[NATURAL SLATE HE...|1266|\n",
      "|           [POSTAGE]|1250|\n",
      "|[JUMBO BAG PINK P...|1231|\n",
      "|[JUMBO BAG PINK P...| 833|\n",
      "|[JAM MAKING SET W...|1220|\n",
      "|[HEART OF WICKER ...|1212|\n",
      "|[JUMBO STORAGE BA...|1201|\n",
      "|[JUMBO STORAGE BA...| 518|\n",
      "|[JUMBO STORAGE BA...| 733|\n",
      "|[JUMBO SHOPPER VI...|1187|\n",
      "|[JUMBO SHOPPER VI...| 683|\n",
      "|[JUMBO SHOPPER VI...| 525|\n",
      "|[JAM MAKING SET P...|1174|\n",
      "|[LUNCH BAG CARS B...|1173|\n",
      "|[LUNCH BAG CARS B...| 526|\n",
      "|[LUNCH BAG CARS B...| 561|\n",
      "|[PAPER CHAIN KIT ...|1170|\n",
      "|[LUNCH BAG SPACEB...|1170|\n",
      "|[LUNCH BAG SPACEB...| 563|\n",
      "|[RECIPE BOX PANTR...|1164|\n",
      "|    [SPOTTY BUNTING]|1153|\n",
      "|[ROSES REGENCY TE...|1120|\n",
      "|[ROSES REGENCY TE...| 537|\n",
      "|[WOODEN PICTURE F...|1118|\n",
      "|[LUNCH BAG PINK P...|1110|\n",
      "|[LUNCH BAG PINK P...| 547|\n",
      "|[LUNCH BAG PINK P...| 613|\n",
      "|[LUNCH BAG SUKI D...|1103|\n",
      "|[LUNCH BAG SUKI D...| 518|\n",
      "|[LUNCH BAG SUKI D...| 564|\n",
      "|[SET OF 4 PANTRY ...|1082|\n",
      "|[ALARM CLOCK BAKE...|1081|\n",
      "|[VICTORIAN GLASS ...|1062|\n",
      "|[GREEN REGENCY TE...|1057|\n",
      "|[GREEN REGENCY TE...| 784|\n",
      "|[GREEN REGENCY TE...| 518|\n",
      "|[RED RETROSPOT CH...|1050|\n",
      "|[LUNCH BAG APPLE ...|1049|\n",
      "|[LUNCH BAG WOODLAND]|1037|\n",
      "|[LUNCH BAG WOODLA...| 532|\n",
      "|[RABBIT NIGHT LIGHT]|1009|\n",
      "|[ALARM CLOCK BAKE...|1001|\n",
      "|[ALARM CLOCK BAKE...| 646|\n",
      "|  [JUMBO BAG APPLES]| 999|\n",
      "|[JUMBO BAG APPLES...| 555|\n",
      "|[SET/20 RED RETRO...| 988|\n",
      "|[WOODEN FRAME ANT...| 987|\n",
      "|[WOODEN FRAME ANT...| 545|\n",
      "|[RETROSPOT TEA SE...| 978|\n",
      "|[BAKING SET 9 PIE...| 961|\n",
      "|[6 RIBBONS RUSTIC...| 961|\n",
      "|[JUMBO  BAG BAROQ...| 947|\n",
      "|[JUMBO  BAG BAROQ...| 593|\n",
      "|[HEART OF WICKER ...| 942|\n",
      "|[VINTAGE SNAP CARDS]| 929|\n",
      "|[GARDENERS KNEELI...| 924|\n",
      "|[JUMBO BAG ALPHABET]| 920|\n",
      "|[SET/5 RED RETROS...| 913|\n",
      "|[SET OF 3 REGENCY...| 910|\n",
      "|[SPACEBOY LUNCH B...| 908|\n",
      "|[CHARLOTTE BAG SU...| 894|\n",
      "|[JUMBO BAG VINTAG...| 885|\n",
      "|[JUMBO BAG PINK V...| 877|\n",
      "|[JUMBO BAG PINK V...| 522|\n",
      "|[PACK OF 60 PINK ...| 875|\n",
      "|[REX CASH+CARRY J...| 874|\n",
      "|[JUMBO BAG WOODLA...| 872|\n",
      "|[JUMBO BAG WOODLA...| 538|\n",
      "|[CHOCOLATE HOT WA...| 866|\n",
      "|[RED TOADSTOOL LE...| 861|\n",
      "|[DOLLY GIRL LUNCH...| 860|\n",
      "|[DOLLY GIRL LUNCH...| 538|\n",
      "|[PLEASE ONE PERSO...| 855|\n",
      "|[SET OF 6 SPICE T...| 846|\n",
      "|[WOODLAND CHARLOT...| 843|\n",
      "|    [POPCORN HOLDER]| 839|\n",
      "|[JUMBO BAG STRAWB...| 838|\n",
      "|[JUMBO BAG STRAWB...| 545|\n",
      "|[60 TEATIME FAIRY...| 836|\n",
      "|[PAPER CHAIN KIT ...| 832|\n",
      "|[PAPER CHAIN KIT ...| 555|\n",
      "|[PAPER BUNTING RE...| 806|\n",
      "|[PINK REGENCY TEA...| 801|\n",
      "|[PINK REGENCY TEA...| 644|\n",
      "|[PINK REGENCY TEA...| 549|\n",
      "|[PINK REGENCY TEA...| 614|\n",
      "|[ALARM CLOCK BAKE...| 799|\n",
      "|[HOT WATER BOTTLE...| 790|\n",
      "|[HOME BUILDING BL...| 787|\n",
      "+--------------------+----+\n",
      "only showing top 100 rows\n",
      "\n"
     ]
    },
    {
     "data": {
      "text/plain": [
       "215"
      ]
     },
     "execution_count": 69,
     "metadata": {},
     "output_type": "execute_result"
    }
   ],
   "source": [
    "# Third Model\n",
    "# measure item frequency\n",
    "fpGrowth3 = FPGrowth(itemsCol=\"Desc\", minSupport=0.02, minConfidence=0.2)\n",
    "model3 = fpGrowth3.fit(df)\n",
    "model3.freqItemsets.show(100)\n",
    "model3.freqItemsets.count()"
   ]
  },
  {
   "cell_type": "code",
   "execution_count": 70,
   "metadata": {},
   "outputs": [
    {
     "name": "stdout",
     "output_type": "stream",
     "text": [
      "+--------------------+--------------------+-------------------+------------------+\n",
      "|          antecedent|          consequent|         confidence|              lift|\n",
      "+--------------------+--------------------+-------------------+------------------+\n",
      "|[PAPER CHAIN KIT ...|[PAPER CHAIN KIT ...| 0.6670673076923077|14.766703648915188|\n",
      "|[JUMBO SHOPPER VI...|[JUMBO BAG RED RE...| 0.5754001684919966| 6.980264339083237|\n",
      "|[JUMBO SHOPPER VI...|[JUMBO STORAGE BA...|0.44229149115417016| 9.538176203907582|\n",
      "|[PINK REGENCY TEA...|[GREEN REGENCY TE...| 0.8941368078175895|21.909312509437626|\n",
      "|[JUMBO STORAGE BA...|[JUMBO BAG PINK P...|0.43130724396336384| 9.074620323843318|\n",
      "|[JUMBO STORAGE BA...|[JUMBO BAG RED RE...| 0.6103247293921732| 7.403939340167346|\n",
      "|[JUMBO STORAGE BA...|[JUMBO SHOPPER VI...|0.43713572023313907| 9.538176203907584|\n",
      "|[JUMBO BAG WOODLA...|[JUMBO BAG RED RE...| 0.6169724770642202| 7.484584147992179|\n",
      "|  [JUMBO BAG APPLES]|[JUMBO BAG RED RE...| 0.5555555555555556| 6.739526411657559|\n",
      "|[LUNCH BAG SUKI D...|[LUNCH BAG  BLACK...| 0.4696282864913871|  9.39256572982774|\n",
      "|[LUNCH BAG SUKI D...|[LUNCH BAG RED RE...| 0.5113327289211242|  8.24114354639522|\n",
      "|[LUNCH BAG  BLACK...|[LUNCH BAG RED RE...| 0.5003861003861004|  8.06471686372122|\n",
      "|[LUNCH BAG  BLACK...|[LUNCH BAG CARS B...| 0.4061776061776062|  8.96845694799659|\n",
      "|[LUNCH BAG  BLACK...|[LUNCH BAG PINK P...| 0.4223938223938224| 9.855855855855856|\n",
      "|[LUNCH BAG  BLACK...|[LUNCH BAG SUKI D...|                0.4| 9.392565729827743|\n",
      "|[GREEN REGENCY TE...|[PINK REGENCY TEA...| 0.7002551020408163|22.642455858747994|\n",
      "|[GARDENERS KNEELI...|[GARDENERS KNEELI...| 0.7176470588235294| 20.11586452762923|\n",
      "|[WOODEN FRAME ANT...|[WOODEN PICTURE F...| 0.5521783181357649|12.791966404039634|\n",
      "|[LUNCH BAG SPACEB...|[LUNCH BAG RED RE...| 0.4811965811965812|7.7554396098266665|\n",
      "|[LUNCH BAG CARS B...|[LUNCH BAG  BLACK...| 0.4484228473998295|  8.96845694799659|\n",
      "+--------------------+--------------------+-------------------+------------------+\n",
      "only showing top 20 rows\n",
      "\n"
     ]
    }
   ],
   "source": [
    "model3.associationRules.show()\n"
   ]
  },
  {
   "cell_type": "code",
   "execution_count": 71,
   "metadata": {},
   "outputs": [
    {
     "name": "stdout",
     "output_type": "stream",
     "text": [
      "+---------+--------------------+--------------------+\n",
      "|InvoiceNo|                Desc|          prediction|\n",
      "+---------+--------------------+--------------------+\n",
      "|   536596|[WAKE UP COCKEREL...|                  []|\n",
      "|   536938|[RED 3 PIECE RETR...|[JUMBO BAG RED RE...|\n",
      "|   537252|[SMALL POPCORN HO...|                  []|\n",
      "|   537691|[3 HOOK PHOTO SHE...|                  []|\n",
      "|   538041|                  []|                  []|\n",
      "|   538184|[MINI JIGSAW SPAC...|                  []|\n",
      "|   538517|[LARGE POPCORN HO...|                  []|\n",
      "|   538879|[PARTY CONE CHRIS...|                  []|\n",
      "|   539275|[RED  HARMONICA I...|[ROSES REGENCY TE...|\n",
      "|   539630|[CHICK GREY HOT W...|[ROSES REGENCY TE...|\n",
      "|   540499|[IVORY KITCHEN SC...|[PINK REGENCY TEA...|\n",
      "|   540540|[HOME SWEET HOME ...|                  []|\n",
      "|   540976|[60 CAKE CASES DO...|[CHARLOTTE BAG PI...|\n",
      "|   541432|[RETROSPOT HEART ...|                  []|\n",
      "|   541518|[60 CAKE CASES DO...|[JUMBO STORAGE BA...|\n",
      "|   541783|[PHOTO FRAME 3 CL...|[PINK REGENCY TEA...|\n",
      "|   542026|[SMALL POPCORN HO...|                  []|\n",
      "|   542375|[CHILDRENS APRON ...|[DOLLY GIRL LUNCH...|\n",
      "|  C540850|[SWEETHEART CERAM...|                  []|\n",
      "|   543641|[DOORSTOP FOOTBAL...|                  []|\n",
      "|   544303|[TEA TIME KITCHEN...|                  []|\n",
      "|   545583|[ASSORTED COLOUR ...|[JUMBO BAG PINK P...|\n",
      "|   547122|[METAL SIGN EMPIR...|                  []|\n",
      "|   547557|                  []|                  []|\n",
      "|   548542|[KINGS CHOICE BIS...|                  []|\n",
      "|   548998|                  []|                  []|\n",
      "|   549160|                  []|                  []|\n",
      "|  C542604|[CINAMMON & ORANG...|                  []|\n",
      "|  C546174|[T-LIGHT GLASS FL...|                  []|\n",
      "|   550469|[NAMASTE SWAGAT I...|[LUNCH BAG CARS B...|\n",
      "|   550617|[RED RETROSPOT PI...|[JUMBO BAG RED RE...|\n",
      "|   550831|[JUMBO BAG SCANDI...|[JUMBO STORAGE BA...|\n",
      "|   551692|                  []|                  []|\n",
      "|   551990|[WOODEN ROUNDERS ...|                  []|\n",
      "|   552172|[SMALL CHINESE ST...|                  []|\n",
      "|   552191|[FELTCRAFT BOY JE...|                  []|\n",
      "|   552215|                  []|                  []|\n",
      "|   552238|[SPOTTY BUNTING, ...|                  []|\n",
      "|   552277|[SET OF 9 HEART S...|[LUNCH BAG RED RE...|\n",
      "|   552677|[JUMBO BAG SCANDI...|[JUMBO BAG PINK P...|\n",
      "|   552852|[RED RETROSPOT PI...|[LUNCH BAG CARS B...|\n",
      "|   553390|[ENAMEL COLANDER ...|[LUNCH BAG  BLACK...|\n",
      "|   553470|[BLUE COAT RACK P...|                  []|\n",
      "|   553559|            [Manual]|                  []|\n",
      "|   553658|[WHITE SOAP RACK ...|[WOODEN FRAME ANT...|\n",
      "|   553708|[BUNDLE OF 3 RETR...|                  []|\n",
      "|   553738|[JUMBO BAG APPLES...|[JUMBO BAG RED RE...|\n",
      "|   553835|[LUNCH BAG DOLLY ...|                  []|\n",
      "|   554072|[NATURAL SLATE HE...|                  []|\n",
      "|   554284|[LARGE PINK GLASS...|                  []|\n",
      "|   554441|[FELTCRAFT 6 FLOW...|                  []|\n",
      "|   554630|[HOME SWEET HOME ...|                  []|\n",
      "|   554792|[POSTAGE, SET/20 ...|                  []|\n",
      "|   556441|[DOILEY STORAGE T...|[LUNCH BAG  BLACK...|\n",
      "|   556462|[BUNDLE OF 3 RETR...|                  []|\n",
      "|  C549913|[JAM MAKING SET P...|                  []|\n",
      "|  C550672|  [JUMBO BAG APPLES]|[JUMBO BAG RED RE...|\n",
      "|  C556414|[NATURAL SLATE CH...|                  []|\n",
      "|   556732|[PINK POLKADOT GA...|[JUMBO BAG RED RE...|\n",
      "|   556929|[RABBIT NIGHT LIG...|                  []|\n",
      "|   557271|[DOILEY STORAGE T...|[GARDENERS KNEELI...|\n",
      "|   557757|[12 IVORY ROSE PE...|                  []|\n",
      "|   558100|[DOORMAT RED RETR...|                  []|\n",
      "|   558700|[SUKI  SHOULDER B...|[LUNCH BAG RED RE...|\n",
      "|   559062|[PING MICROWAVE A...|                  []|\n",
      "|   559174|[BLOSSOM  IMAGES ...|                  []|\n",
      "|   559295|[PLASTERS IN TIN ...|[GREEN REGENCY TE...|\n",
      "|   560095|[WOODEN FRAME ANT...|[WOODEN PICTURE F...|\n",
      "|   560145|[AGED GLASS SILVE...|[ALARM CLOCK BAKE...|\n",
      "|   560536|[AGED GLASS SILVE...|                  []|\n",
      "|   561057|[JUMBO BAG RED RE...|[LUNCH BAG RED RE...|\n",
      "|   561352|[IVORY KITCHEN SC...|[LUNCH BAG RED RE...|\n",
      "|   561519|[VINTAGE RED ENAM...|                  []|\n",
      "|   562204|[CRYSTAL DIAMANTE...|                  []|\n",
      "|   562271|[ALARM CLOCK BAKE...|[JUMBO BAG RED RE...|\n",
      "|   562463|                  []|                  []|\n",
      "|   562600|[PINK BABY BUNTIN...|                  []|\n",
      "|   562890|[FRENCH LAVENDER ...|[JUMBO BAG RED RE...|\n",
      "|   562945|                  []|                  []|\n",
      "|  C562959|[BAKING SET 9 PIE...|                  []|\n",
      "|   563020|[JUMBO BAG SCANDI...|[JUMBO STORAGE BA...|\n",
      "|   565747|[JUMBO BAG STRAWB...|[JUMBO BAG RED RE...|\n",
      "|   566248|[DANISH ROSE PHOT...|                  []|\n",
      "|   566431|[SET OF 6 RIBBONS...|                  []|\n",
      "|   567163|[60 CAKE CASES VI...|                  []|\n",
      "|   567695|                  []|                  []|\n",
      "|   567879|[WOODEN TREE CHRI...|[JUMBO BAG RED RE...|\n",
      "|   568222|[HAND WARMER OWL ...|                  []|\n",
      "|   568711|[HOMEMADE JAM SCE...|                  []|\n",
      "|   569020|[HEART T-LIGHT HO...|                  []|\n",
      "|   569560|[NATURAL SLATE HE...|                  []|\n",
      "|   569823|[SET OF 9 HEART S...|[LUNCH BAG RED RE...|\n",
      "|   570234|[CARD HOLDER LOVE...|                  []|\n",
      "|   570264|                  []|                  []|\n",
      "|   570281|[WOODEN OWLS LIGH...|                  []|\n",
      "|   570592|[CHICK GREY HOT W...|[LUNCH BAG PINK P...|\n",
      "|   571010|                  []|                  []|\n",
      "|   571906|[CHOCOLATE HOT WA...|                  []|\n",
      "|   572049|[ NINE DRAWER OFF...|[WOODEN PICTURE F...|\n",
      "|   572458|[3 RAFFIA RIBBONS...|[PAPER CHAIN KIT ...|\n",
      "+---------+--------------------+--------------------+\n",
      "only showing top 100 rows\n",
      "\n"
     ]
    }
   ],
   "source": [
    "model3.transform(df).show(100)"
   ]
  },
  {
   "cell_type": "code",
   "execution_count": 66,
   "metadata": {},
   "outputs": [
    {
     "name": "stdout",
     "output_type": "stream",
     "text": [
      "root\n",
      " |-- InvoiceNo: string (nullable = true)\n",
      " |-- Desc: array (nullable = true)\n",
      " |    |-- element: string (containsNull = true)\n",
      " |-- prediction: array (nullable = true)\n",
      " |    |-- element: string (containsNull = true)\n",
      "\n"
     ]
    }
   ],
   "source": [
    "model3.transform(df).printSchema()"
   ]
  },
  {
   "cell_type": "markdown",
   "metadata": {},
   "source": [
    "## Kesimpulan \n",
    "- min support = 0.1 dan min confidence = 0.3 results **0 itemset**  \n",
    "- min support = 0.05 dan min confidence 0.3 results **11 itemsets**\n",
    "- min support = 0.02 dan min confidence 0.3 results **220 itemsets**\n",
    "\n"
   ]
  },
  {
   "cell_type": "code",
   "execution_count": null,
   "metadata": {},
   "outputs": [],
   "source": []
  }
 ],
 "metadata": {
  "kernelspec": {
   "display_name": "Python 3",
   "language": "python",
   "name": "python3"
  },
  "language_info": {
   "codemirror_mode": {
    "name": "ipython",
    "version": 3
   },
   "file_extension": ".py",
   "mimetype": "text/x-python",
   "name": "python",
   "nbconvert_exporter": "python",
   "pygments_lexer": "ipython3",
   "version": "3.6.7"
  }
 },
 "nbformat": 4,
 "nbformat_minor": 2
}
